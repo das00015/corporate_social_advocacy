{
 "cells": [
  {
   "cell_type": "code",
   "execution_count": 1,
   "metadata": {},
   "outputs": [],
   "source": [
    "from Scweet.scweet import scrape\n",
    "from Scweet.user import get_user_information, get_users_following, get_users_followers"
   ]
  },
  {
   "cell_type": "markdown",
   "metadata": {},
   "source": [
    "### Use Sctweet package to scrape tweets for searchword1 AND searchword2 ###"
   ]
  },
  {
   "cell_type": "code",
   "execution_count": 2,
   "metadata": {},
   "outputs": [],
   "source": [
    "import pandas as pd\n",
    "pd.set_option('display.max_columns', None)  \n",
    "pd.set_option(\"display.max_colwidth\", -1)"
   ]
  },
  {
   "cell_type": "code",
   "execution_count": 147,
   "metadata": {},
   "outputs": [],
   "source": [
    "query = \"walmart AND climate change\""
   ]
  },
  {
   "cell_type": "code",
   "execution_count": 148,
   "metadata": {},
   "outputs": [
    {
     "name": "stdout",
     "output_type": "stream",
     "text": [
      "Scraping on headless mode.\n",
      "looking for tweets between 2021-10-31 and 2021-11-01 ...\n",
      " path : https://twitter.com/search?q=(walmart AND climate change)%20until%3A2021-11-01%20since%3A2021-10-31%20%20-filter%3Areplies&src=typed_query\n",
      "Tweet made at: 2021-10-31T14:02:03.000Z is found.\n",
      "Tweet made at: 2021-10-31T18:14:20.000Z is found.\n",
      "Tweet made at: 2021-10-31T23:23:48.000Z is found.\n",
      "Tweet made at: 2021-10-31T18:54:13.000Z is found.\n",
      "scroll  1\n",
      "scroll  2\n",
      "scroll  3\n",
      "looking for tweets between 2021-11-01 and 2021-11-02 ...\n",
      " path : https://twitter.com/search?q=(walmart AND climate change)%20until%3A2021-11-02%20since%3A2021-11-01%20%20-filter%3Areplies&src=typed_query\n",
      "Tweet made at: 2021-11-01T11:14:07.000Z is found.\n",
      "Tweet made at: 2021-11-01T13:23:59.000Z is found.\n",
      "Tweet made at: 2021-11-01T06:53:53.000Z is found.\n",
      "scroll  1\n",
      "scroll  2\n",
      "scroll  3\n",
      "looking for tweets between 2021-11-02 and 2021-11-03 ...\n",
      " path : https://twitter.com/search?q=(walmart AND climate change)%20until%3A2021-11-03%20since%3A2021-11-02%20%20-filter%3Areplies&src=typed_query\n",
      "Tweet made at: 2021-11-02T20:01:26.000Z is found.\n",
      "Tweet made at: 2021-11-02T03:57:28.000Z is found.\n",
      "Tweet made at: 2021-11-02T13:14:01.000Z is found.\n",
      "Tweet made at: 2021-11-02T23:23:53.000Z is found.\n",
      "Tweet made at: 2021-11-02T18:01:56.000Z is found.\n",
      "scroll  1\n",
      "Tweet made at: 2021-11-02T20:33:54.000Z is found.\n",
      "scroll  2\n",
      "scroll  3\n",
      "scroll  4\n",
      "looking for tweets between 2021-11-03 and 2021-11-04 ...\n",
      " path : https://twitter.com/search?q=(walmart AND climate change)%20until%3A2021-11-04%20since%3A2021-11-03%20%20-filter%3Areplies&src=typed_query\n",
      "Tweet made at: 2021-11-03T14:54:08.000Z is found.\n",
      "Tweet made at: 2021-11-03T09:33:46.000Z is found.\n",
      "Tweet made at: 2021-11-03T05:14:08.000Z is found.\n",
      "scroll  1\n",
      "scroll  2\n",
      "scroll  3\n",
      "looking for tweets between 2021-11-04 and 2021-11-05 ...\n",
      " path : https://twitter.com/search?q=(walmart AND climate change)%20until%3A2021-11-05%20since%3A2021-11-04%20%20-filter%3Areplies&src=typed_query\n",
      "Tweet made at: 2021-11-04T23:21:12.000Z is found.\n",
      "Tweet made at: 2021-11-04T14:45:20.000Z is found.\n",
      "Tweet made at: 2021-11-04T23:53:49.000Z is found.\n",
      "scroll  1\n",
      "scroll  2\n",
      "scroll  3\n",
      "looking for tweets between 2021-11-05 and 2021-11-06 ...\n",
      " path : https://twitter.com/search?q=(walmart AND climate change)%20until%3A2021-11-06%20since%3A2021-11-05%20%20-filter%3Areplies&src=typed_query\n",
      "Tweet made at: 2021-11-05T01:53:48.000Z is found.\n",
      "Tweet made at: 2021-11-05T16:41:38.000Z is found.\n",
      "Tweet made at: 2021-11-05T01:14:00.000Z is found.\n",
      "Tweet made at: 2021-11-05T22:34:04.000Z is found.\n",
      "scroll  1\n",
      "scroll  2\n",
      "scroll  3\n",
      "looking for tweets between 2021-11-06 and 2021-11-07 ...\n",
      " path : https://twitter.com/search?q=(walmart AND climate change)%20until%3A2021-11-07%20since%3A2021-11-06%20%20-filter%3Areplies&src=typed_query\n",
      "Tweet made at: 2021-11-06T22:43:53.000Z is found.\n",
      "Tweet made at: 2021-11-06T16:34:04.000Z is found.\n",
      "Tweet made at: 2021-11-06T15:54:06.000Z is found.\n",
      "scroll  1\n",
      "scroll  2\n",
      "scroll  3\n",
      "looking for tweets between 2021-11-07 and 2021-11-08 ...\n",
      " path : https://twitter.com/search?q=(walmart AND climate change)%20until%3A2021-11-08%20since%3A2021-11-07%20%20-filter%3Areplies&src=typed_query\n",
      "Tweet made at: 2021-11-07T12:54:02.000Z is found.\n",
      "Tweet made at: 2021-11-07T00:43:46.000Z is found.\n",
      "scroll  1\n",
      "scroll  2\n",
      "scroll  3\n",
      "looking for tweets between 2021-11-08 and 2021-11-09 ...\n",
      " path : https://twitter.com/search?q=(walmart AND climate change)%20until%3A2021-11-09%20since%3A2021-11-08%20%20-filter%3Areplies&src=typed_query\n",
      "Tweet made at: 2021-11-08T22:04:03.000Z is found.\n",
      "Tweet made at: 2021-11-08T20:19:23.000Z is found.\n",
      "Tweet made at: 2021-11-08T15:34:10.000Z is found.\n",
      "scroll  1\n",
      "scroll  2\n",
      "scroll  3\n",
      "looking for tweets between 2021-11-09 and 2021-11-10 ...\n",
      " path : https://twitter.com/search?q=(walmart AND climate change)%20until%3A2021-11-10%20since%3A2021-11-09%20%20-filter%3Areplies&src=typed_query\n",
      "Tweet made at: 2021-11-09T01:05:38.000Z is found.\n",
      "Tweet made at: 2021-11-09T17:04:09.000Z is found.\n",
      "Tweet made at: 2021-11-09T13:14:21.000Z is found.\n",
      "Tweet made at: 2021-11-09T16:00:16.000Z is found.\n",
      "Tweet made at: 2021-11-09T11:38:01.000Z is found.\n",
      "Tweet made at: 2021-11-09T02:34:11.000Z is found.\n",
      "scroll  1\n",
      "scroll  2\n",
      "scroll  3\n",
      "looking for tweets between 2021-11-10 and 2021-11-11 ...\n",
      " path : https://twitter.com/search?q=(walmart AND climate change)%20until%3A2021-11-11%20since%3A2021-11-10%20%20-filter%3Areplies&src=typed_query\n",
      "Tweet made at: 2021-11-10T23:05:26.000Z is found.\n",
      "Tweet made at: 2021-11-10T11:24:02.000Z is found.\n",
      "Tweet made at: 2021-11-10T02:06:00.000Z is found.\n",
      "Tweet made at: 2021-11-10T14:34:29.000Z is found.\n",
      "scroll  1\n",
      "scroll  2\n",
      "scroll  3\n",
      "looking for tweets between 2021-11-11 and 2021-11-12 ...\n",
      " path : https://twitter.com/search?q=(walmart AND climate change)%20until%3A2021-11-12%20since%3A2021-11-11%20%20-filter%3Areplies&src=typed_query\n",
      "Tweet made at: 2021-11-11T17:15:27.000Z is found.\n",
      "scroll  1\n",
      "scroll  2\n",
      "scroll  3\n",
      "looking for tweets between 2021-11-12 and 2021-11-13 ...\n",
      " path : https://twitter.com/search?q=(walmart AND climate change)%20until%3A2021-11-13%20since%3A2021-11-12%20%20-filter%3Areplies&src=typed_query\n",
      "Tweet made at: 2021-11-12T04:04:11.000Z is found.\n",
      "Tweet made at: 2021-11-12T02:44:06.000Z is found.\n",
      "Tweet made at: 2021-11-12T17:50:11.000Z is found.\n",
      "Tweet made at: 2021-11-12T22:24:00.000Z is found.\n",
      "scroll  1\n",
      "scroll  2\n",
      "scroll  3\n",
      "looking for tweets between 2021-11-13 and 2021-11-14 ...\n",
      " path : https://twitter.com/search?q=(walmart AND climate change)%20until%3A2021-11-14%20since%3A2021-11-13%20%20-filter%3Areplies&src=typed_query\n",
      "Tweet made at: 2021-11-13T16:13:12.000Z is found.\n",
      "Tweet made at: 2021-11-13T23:14:03.000Z is found.\n",
      "Tweet made at: 2021-11-13T15:34:26.000Z is found.\n",
      "scroll  1\n",
      "scroll  2\n",
      "scroll  3\n",
      "looking for tweets between 2021-11-14 and 2021-11-15 ...\n",
      " path : https://twitter.com/search?q=(walmart AND climate change)%20until%3A2021-11-15%20since%3A2021-11-14%20%20-filter%3Areplies&src=typed_query\n",
      "Tweet made at: 2021-11-14T22:04:00.000Z is found.\n",
      "Tweet made at: 2021-11-14T08:19:45.000Z is found.\n",
      "Tweet made at: 2021-11-14T12:53:24.000Z is found.\n",
      "Tweet made at: 2021-11-14T22:23:57.000Z is found.\n",
      "Tweet made at: 2021-11-14T12:46:41.000Z is found.\n",
      "Tweet made at: 2021-11-14T23:43:58.000Z is found.\n",
      "scroll  1\n",
      "scroll  2\n",
      "scroll  3\n",
      "looking for tweets between 2021-11-15 and 2021-11-16 ...\n",
      " path : https://twitter.com/search?q=(walmart AND climate change)%20until%3A2021-11-16%20since%3A2021-11-15%20%20-filter%3Areplies&src=typed_query\n",
      "Tweet made at: 2021-11-15T02:33:53.000Z is found.\n",
      "Tweet made at: 2021-11-15T16:45:03.000Z is found.\n",
      "Tweet made at: 2021-11-15T20:13:57.000Z is found.\n",
      "Tweet made at: 2021-11-15T10:53:58.000Z is found.\n",
      "Tweet made at: 2021-11-15T17:04:18.000Z is found.\n",
      "scroll  1\n",
      "scroll  2\n",
      "scroll  3\n",
      "looking for tweets between 2021-11-16 and 2021-11-17 ...\n",
      " path : https://twitter.com/search?q=(walmart AND climate change)%20until%3A2021-11-17%20since%3A2021-11-16%20%20-filter%3Areplies&src=typed_query\n",
      "Tweet made at: 2021-11-16T22:08:59.000Z is found.\n",
      "Tweet made at: 2021-11-16T10:03:56.000Z is found.\n",
      "Tweet made at: 2021-11-16T14:13:27.000Z is found.\n",
      "scroll  1\n",
      "scroll  2\n",
      "scroll  3\n",
      "looking for tweets between 2021-11-17 and 2021-11-18 ...\n",
      " path : https://twitter.com/search?q=(walmart AND climate change)%20until%3A2021-11-18%20since%3A2021-11-17%20%20-filter%3Areplies&src=typed_query\n",
      "Tweet made at: 2021-11-17T02:17:49.000Z is found.\n",
      "Tweet made at: 2021-11-17T21:44:05.000Z is found.\n",
      "Tweet made at: 2021-11-17T10:23:59.000Z is found.\n",
      "Tweet made at: 2021-11-17T08:23:57.000Z is found.\n",
      "scroll  1\n",
      "scroll  2\n",
      "scroll  3\n",
      "looking for tweets between 2021-11-18 and 2021-11-19 ...\n",
      " path : https://twitter.com/search?q=(walmart AND climate change)%20until%3A2021-11-19%20since%3A2021-11-18%20%20-filter%3Areplies&src=typed_query\n",
      "Tweet made at: 2021-11-18T17:05:54.000Z is found.\n",
      "Tweet made at: 2021-11-18T16:04:56.000Z is found.\n",
      "Tweet made at: 2021-11-18T09:03:52.000Z is found.\n",
      "Tweet made at: 2021-11-18T07:14:09.000Z is found.\n",
      "scroll  1\n",
      "scroll  2\n",
      "scroll  3\n",
      "looking for tweets between 2021-11-19 and 2021-11-20 ...\n",
      " path : https://twitter.com/search?q=(walmart AND climate change)%20until%3A2021-11-20%20since%3A2021-11-19%20%20-filter%3Areplies&src=typed_query\n"
     ]
    },
    {
     "name": "stdout",
     "output_type": "stream",
     "text": [
      "Tweet made at: 2021-11-19T16:24:12.000Z is found.\n",
      "Tweet made at: 2021-11-19T00:24:05.000Z is found.\n",
      "scroll  1\n",
      "scroll  2\n",
      "scroll  3\n"
     ]
    }
   ],
   "source": [
    "data = scrape(words=[query], since=\"2021-10-31\", until=\"2021-11-20\", from_account = None,interval=1, \n",
    "      headless=True, display_type=\"Top\", save_images=False, proxy = None, save_dir = 'outputs',\n",
    "             resume=False, filter_replies=True, proximity=False)"
   ]
  },
  {
   "cell_type": "code",
   "execution_count": 149,
   "metadata": {},
   "outputs": [
    {
     "data": {
      "text/plain": [
       "(73, 11)"
      ]
     },
     "execution_count": 149,
     "metadata": {},
     "output_type": "execute_result"
    }
   ],
   "source": [
    "data.shape"
   ]
  },
  {
   "cell_type": "code",
   "execution_count": 150,
   "metadata": {},
   "outputs": [],
   "source": [
    "data.head()"
   ]
  },
  {
   "cell_type": "code",
   "execution_count": 151,
   "metadata": {},
   "outputs": [],
   "source": [
    "filename = \"hao_CSA_data/climate_change/\"+query+\".csv\"\n",
    "data.to_csv(filename)"
   ]
  },
  {
   "cell_type": "code",
   "execution_count": null,
   "metadata": {},
   "outputs": [],
   "source": []
  }
 ],
 "metadata": {
  "kernelspec": {
   "display_name": "TwitterDataCollection",
   "language": "python",
   "name": "twitterdatacollection"
  },
  "language_info": {
   "codemirror_mode": {
    "name": "ipython",
    "version": 3
   },
   "file_extension": ".py",
   "mimetype": "text/x-python",
   "name": "python",
   "nbconvert_exporter": "python",
   "pygments_lexer": "ipython3",
   "version": "3.6.7"
  }
 },
 "nbformat": 4,
 "nbformat_minor": 2
}
